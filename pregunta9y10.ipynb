{
 "cells": [
  {
   "cell_type": "code",
   "execution_count": null,
   "metadata": {
    "collapsed": true
   },
   "outputs": [],
   "source": [
    "import pandas as pd\n",
    "import seaborn as sns\n",
    "import matplotlib.pyplot as plt\n",
    "allstate = pd.read_csv(\"allstate.csv\")"
   ]
  },
  {
   "cell_type": "markdown",
   "metadata": {},
   "source": [
    "# pregunta 9 \n",
    "## ¿Del total de carros que porcentaje tiene menos de k años?"
   ]
  },
  {
   "cell_type": "code",
   "execution_count": null,
   "metadata": {
    "collapsed": true
   },
   "outputs": [],
   "source": [
    "df=allstate[['car_age']]\n",
    "def underCarAge(edad):\n",
    "    x = allstate[['car_age']]\n",
    "    temporary = x[x.car_age < edad]\n",
    "    p = (temporary.count() / x.count())*100\n",
    "    return p\n",
    "max_value = df.max()\n",
    "min_value = df.min()\n",
    "list=[]\n",
    "for a in range(min_value,max_value+1):\n",
    "    row = [int(a), str(str(float(underCarAge(a)))+'%')]\n",
    "    list.append(row)\n",
    "\n",
    "nombre = pd.Series((v[0] for v in list))\n",
    "nSerie = pd.Series((v[1] for v in list))\n",
    "ndf = pd.concat([nombre,nombreDeSerie], axis = 1)\n",
    "ndf.columns = ('Edad','Porcentaje')\n",
    "\n",
    "print ndf"
   ]
  },
  {
   "cell_type": "markdown",
   "metadata": {},
   "source": [
    "# pregunta 10\n",
    "## ¿Que edad necesita menos cotizaciones para comprar un seguro?"
   ]
  },
  {
   "cell_type": "code",
   "execution_count": null,
   "metadata": {
    "collapsed": true
   },
   "outputs": [],
   "source": [
    "data = allstate[['record_type','shopping_pt','age_youngest']]\n",
    "purchasedInsurance = data[data.record_type == 1]\n",
    "smallestCot = min(purchasedInsurance.shopping_pt)\n",
    "cantCont = purchasedInsurance[purchasedInsurance.shopping_pt == smallestCot]\n",
    "mode = cantCont.mode()\n",
    "print 'E'+ str(int(mode.age_youngest))"
   ]
  }
 ],
 "metadata": {
  "kernelspec": {
   "display_name": "Python 2",
   "language": "python",
   "name": "python2"
  },
  "language_info": {
   "codemirror_mode": {
    "name": "ipython",
    "version": 2
   },
   "file_extension": ".py",
   "mimetype": "text/x-python",
   "name": "python",
   "nbconvert_exporter": "python",
   "pygments_lexer": "ipython2",
   "version": "2.7.11"
  }
 },
 "nbformat": 4,
 "nbformat_minor": 0
}
