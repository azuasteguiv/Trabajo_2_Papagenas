{
 "cells": [
  {
   "cell_type": "markdown",
   "metadata": {},
   "source": [
    "4. ¿Que edad promedio tienen las personas dueñas de carros vieos y carros nuevos?"
   ]
  },
  {
   "cell_type": "code",
   "execution_count": 8,
   "metadata": {
    "collapsed": false
   },
   "outputs": [
    {
     "name": "stdout",
     "output_type": "stream",
     "text": [
      "64.0\n",
      "38.668044789\n",
      "41.1517657192\n",
      "38.668044789\n"
     ]
    }
   ],
   "source": [
    "import pandas as pd\n",
    "import numpy as np\n",
    "\n",
    "allstate = pd.read_csv('allstate.csv')\n",
    "\n",
    "edad = allstate[['car_age','age_oldest']]  \n",
    "pa = edad[edad.car_age == edad.car_age.max()] \n",
    "p = pa.age_oldest.mean()\n",
    "print p \n",
    "edad = allstate[['car_age','age_youngest']]  \n",
    "pa = edad[edad.car_age == edad.car_age.min()] \n",
    "p = pa.age_youngest.mean()\n",
    "print p \n",
    "##allstate.car_age.min()\n",
    "edad = allstate[['car_age','age_oldest']]  \n",
    "pa = edad[edad.car_age == edad.car_age.min()] \n",
    "p = pa.age_oldest.mean()\n",
    "print p\n",
    "\n",
    "edad = allstate[['car_age','age_youngest']]  \n",
    "pa = edad[edad.car_age == edad.car_age.min()] \n",
    "p = pa.age_youngest.mean()\n",
    "print p"
   ]
  },
  {
   "cell_type": "code",
   "execution_count": null,
   "metadata": {
    "collapsed": true
   },
   "outputs": [],
   "source": [
    "Edad de dueno carro viejo: 41\n",
    "Edad de dueno carro joven: 38"
   ]
  },
  {
   "cell_type": "markdown",
   "metadata": {},
   "source": [
    "7. ¿Cuantas cotizaciones, previo a la compra, realizan los consumidores del estado de ?"
   ]
  },
  {
   "cell_type": "code",
   "execution_count": 7,
   "metadata": {
    "collapsed": false
   },
   "outputs": [
    {
     "data": {
      "text/plain": [
       "9"
      ]
     },
     "execution_count": 7,
     "metadata": {},
     "output_type": "execute_result"
    }
   ],
   "source": [
    "import pandas as pd\n",
    "import numpy as np\n",
    "import seaborn as sns\n",
    "import matplotlib.pyplot as plt\n",
    "\n",
    "\n",
    "allstate=pd.read_csv(\"allstate.csv\")\n",
    "\n",
    "a = (allstate.state == \"AR\") & (allstate.shopping_pt == 1)\n",
    "a.sum()\n",
    "\n",
    "b = (allstate.state == \"AR\") & (allstate.shopping_pt == 2)\n",
    "b.sum()\n",
    "\n",
    "a.sum()-b.sum()\n",
    "\n",
    "c = (allstate.state == \"AR\") & (allstate.shopping_pt == 3)\n",
    "c.sum()\n",
    "\n",
    "d = (allstate.state == \"AR\") & (allstate.shopping_pt == 4)\n",
    "d.sum()\n",
    "\n",
    "c.sum()-d.sum()\n",
    "\n",
    "e = (allstate.state == \"AR\") & (allstate.shopping_pt == 5)\n",
    "e.sum()\n",
    "\n",
    "d.sum()-e.sum()\n",
    "\n",
    "\n",
    "f = (allstate.state == \"AR\") & (allstate.shopping_pt == 6)\n",
    "f.sum()\n",
    "\n",
    "e.sum()-f.sum()\n",
    "\n",
    "g = (allstate.state == \"AR\") & (allstate.shopping_pt == 7)\n",
    "g.sum()\n",
    "\n",
    "f.sum()-g.sum()\n",
    "\n",
    "h = (allstate.state == \"AR\") & (allstate.shopping_pt == 8)\n",
    "h.sum()\n",
    "\n",
    "g.sum()-h.sum()\n",
    "\n",
    "i = (allstate.state == \"AR\") & (allstate.shopping_pt == 9)\n",
    "i.sum()\n",
    "\n",
    "h.sum()-i.sum()\n",
    "\n",
    "j = (allstate.state == \"AR\") & (allstate.shopping_pt == 10)\n",
    "j.sum()\n",
    "\n",
    "i.sum()-j.sum()\n",
    "\n",
    "k = (allstate.state == \"AR\") & (allstate.shopping_pt == 11)\n",
    "k.sum()\n",
    "\n",
    "j.sum()-k.sum()\n",
    "\n",
    "l = (allstate.state == \"AR\") & (allstate.shopping_pt == 12)\n",
    "l.sum()\n",
    "\n",
    "k.sum()-l.sum()\n",
    "\n",
    "m = (allstate.state == \"AR\") & (allstate.shopping_pt == 13)\n",
    "m.sum()\n",
    "\n",
    "l.sum()-m.sum()"
   ]
  },
  {
   "cell_type": "markdown",
   "metadata": {},
   "source": [
    "Numero de cotizaciones previo a la compra en Arizona: 9"
   ]
  }
 ],
 "metadata": {
  "kernelspec": {
   "display_name": "Python 2",
   "language": "python",
   "name": "python2"
  },
  "language_info": {
   "codemirror_mode": {
    "name": "ipython",
    "version": 2
   },
   "file_extension": ".py",
   "mimetype": "text/x-python",
   "name": "python",
   "nbconvert_exporter": "python",
   "pygments_lexer": "ipython2",
   "version": "2.7.11"
  }
 },
 "nbformat": 4,
 "nbformat_minor": 0
}
